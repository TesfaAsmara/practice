{
 "cells": [
  {
   "cell_type": "code",
   "execution_count": null,
   "metadata": {},
   "outputs": [],
   "source": [
    "#| default_exp chapter2\n",
    "%load_ext autoreload\n",
    "%autoreload 2"
   ]
  },
  {
   "cell_type": "markdown",
   "metadata": {},
   "source": [
    "# Object-Oriented Python: Chapter 2\n",
    "\n",
    "Object-Oriented Python: Master OOP by Building Games and GUIs\n",
    "\n",
    "> Chapter 2: Modeling Physical objects with Object-Oriented Programming"
   ]
  },
  {
   "cell_type": "code",
   "execution_count": null,
   "metadata": {},
   "outputs": [],
   "source": [
    "# File LightSwitch_Procedural.py\n",
    "\n",
    "# Procedural light switch\n",
    "\n",
    "def turnOn():\n",
    "    global switchIsOn\n",
    "    # turn the light on\n",
    "    switchIsOn = True\n",
    "\n",
    "def turnOff():\n",
    "    global switchIsOn\n",
    "    # turn the light off\n",
    "    switchIsOn = False\n",
    "\n",
    "# Main code\n",
    "\n",
    "switchIsOn = False # a global Boolean variable\n",
    "\n",
    "# Test code\n",
    "print(switchIsOn)\n",
    "turnOn()\n",
    "print(switchIsOn)\n",
    "turnOff()\n",
    "print(switchIsOn)\n",
    "turnOn()\n",
    "print(switchIsOn)"
   ]
  },
  {
   "cell_type": "code",
   "execution_count": null,
   "metadata": {},
   "outputs": [],
   "source": [
    "# OO_LightSwitch\n",
    "\n",
    "class LightSwitch():\n",
    "    def __init__(self):\n",
    "        self.switchIsOn  = False\n",
    "    \n",
    "    def turnOn(self):\n",
    "        self.switchIsOn = True\n",
    "    \n",
    "    def turnOff(self):\n",
    "        self.switchIsOn = False\n",
    "\n",
    "oLightSwitch  = LightSwitch()"
   ]
  },
  {
   "cell_type": "markdown",
   "metadata": {},
   "source": [
    "```python\n",
    "class <ClassName>():\n",
    "\n",
    "def __init__(self, <optional param1>, ..., <optional paramN>):\n",
    "          #  any initialization code here\n",
    "      \n",
    "      # Any number of functions that access the data\n",
    "      # Each has the form:\n",
    "      \n",
    "def <functionName1>(self, <optional param1>, ..., <optional paramN>):\n",
    "          #  body of function\n",
    "\n",
    "      #  ... more functions\n",
    "\n",
    "def <functionNameN>(self, <optional param1>, ..., <optional paramN>):\n",
    "          #  body of function\n",
    "```"
   ]
  }
 ],
 "metadata": {
  "kernelspec": {
   "display_name": "Python 3.9.13 ('directed_graphs_env')",
   "language": "python",
   "name": "python3"
  }
 },
 "nbformat": 4,
 "nbformat_minor": 2
}
