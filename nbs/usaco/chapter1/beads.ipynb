{
 "cells": [
  {
   "cell_type": "code",
   "execution_count": null,
   "metadata": {},
   "outputs": [],
   "source": [
    "#| default_exp beads\n",
    "%load_ext autoreload\n",
    "%autoreload 2"
   ]
  },
  {
   "cell_type": "markdown",
   "metadata": {},
   "source": [
    "# beads\n",
    "\n",
    "> PROG: `beads`"
   ]
  },
  {
   "cell_type": "code",
   "execution_count": 3,
   "metadata": {},
   "outputs": [],
   "source": [
    "'''\n",
    "ID: tgac2021\n",
    "LANG: PYTHON3\n",
    "TASK: beads\n",
    "'''\n",
    "\n",
    "fin = open(\"beads.in\", \"r\")\n",
    "\n",
    "N = int(fin.readline().strip())\n",
    "beads = fin.readline().strip()\n",
    "\n",
    "pre = ppre = ''\n",
    "num = w_num = 0\n",
    "max_num = 0\n",
    "i = 0"
   ]
  }
 ],
 "metadata": {
  "kernelspec": {
   "display_name": "Python 3.9.13 ('directed_graphs_env')",
   "language": "python",
   "name": "python3"
  },
  "language_info": {
   "codemirror_mode": {
    "name": "ipython",
    "version": 3
   },
   "file_extension": ".py",
   "mimetype": "text/x-python",
   "name": "python",
   "nbconvert_exporter": "python",
   "pygments_lexer": "ipython3",
   "version": "3.9.13"
  },
  "orig_nbformat": 4,
  "vscode": {
   "interpreter": {
    "hash": "6795159ee165e048208425cbc96e3389349f8048950ee195b0f3273044952c16"
   }
  }
 },
 "nbformat": 4,
 "nbformat_minor": 2
}
