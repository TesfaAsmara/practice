{
 "cells": [
  {
   "cell_type": "code",
   "execution_count": null,
   "metadata": {},
   "outputs": [],
   "source": [
    "#| default_exp gift1"
   ]
  },
  {
   "cell_type": "markdown",
   "metadata": {},
   "source": [
    "# gift1\n",
    "\n",
    "> PROG:  `gift1`"
   ]
  },
  {
   "cell_type": "code",
   "execution_count": null,
   "metadata": {},
   "outputs": [],
   "source": [
    "'''\n",
    "ID: tgac2021\n",
    "LANG: PYTHON3\n",
    "TASK: gift1\n",
    "'''\n",
    "# Input and output\n",
    "fin = open(\"gift1.in\", \"r\")\n",
    "fout = open(\"gift1.out\", \"w\")\n",
    "\n",
    "# Read in the file (stripping \\n)\n",
    "lines = [line.strip() for line in fin.readlines()]\n",
    "\n",
    "# Store NP\n",
    "NP = int(lines[0])\n",
    "\n",
    "# Store the friends as a dictionary\n",
    "friends = dict.fromkeys(lines[1:NP+1], 0)\n",
    "\n",
    "def gift_giving(friends, gift):\n",
    "    # the giver\n",
    "    giver = gift[0]\n",
    "    \n",
    "    # the amount, to be divided among (in int)\n",
    "    amount, divisor = [int(x) for x in gift[1].split()]\n",
    "\n",
    "    if divisor != 0:\n",
    "        #  giver keeps reminder, loses amount\n",
    "        friends[giver] += (amount % divisor) - amount\n",
    "\n",
    "        # friends get even donation\n",
    "        donation = int(amount/divisor) \n",
    "        for i in range(divisor):\n",
    "            friends[gift[i + 2]] += donation\n",
    "    \n",
    "        # Return where to continue reading in the file\n",
    "        return divisor + 2 # for reading the giver and gift\n",
    "    else:\n",
    "        return 2 # for reading the giver and gift\n",
    "\n",
    "\n",
    "i = NP+1\n",
    "while i < len(lines):\n",
    "    i += gift_giving(friends, lines[i:])\n",
    "\n",
    "for friend, net_value in friends.items():\n",
    "    fout.write(f\"{friend} {net_value}\\n\")"
   ]
  }
 ],
 "metadata": {
  "kernelspec": {
   "display_name": "Python 3.9.13 ('directed_graphs_env')",
   "language": "python",
   "name": "python3"
  },
  "language_info": {
   "name": "python",
   "version": "3.9.13"
  },
  "vscode": {
   "interpreter": {
    "hash": "6795159ee165e048208425cbc96e3389349f8048950ee195b0f3273044952c16"
   }
  }
 },
 "nbformat": 4,
 "nbformat_minor": 2
}
