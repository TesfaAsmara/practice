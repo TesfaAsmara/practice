{
 "cells": [
  {
   "cell_type": "code",
   "execution_count": 1,
   "metadata": {},
   "outputs": [],
   "source": [
    "#| default_exp ride"
   ]
  },
  {
   "cell_type": "markdown",
   "metadata": {},
   "source": [
    "# ride\n",
    "\n",
    "> PROG:  `ride`"
   ]
  },
  {
   "cell_type": "code",
   "execution_count": 2,
   "metadata": {},
   "outputs": [],
   "source": [
    "'''\n",
    "ID: tgac2021\n",
    "LANG: PYTHON3\n",
    "TASK: ride\n",
    "'''\n",
    "\n",
    "# Input and output\n",
    "fin = open(\"ride.in\", \"r\")\n",
    "fout = open(\"ride.out\", \"w\")\n",
    "\n",
    "# Read in the comet name, in lowercase\n",
    "comet = fin.readline().lower()\n",
    "\n",
    "# Read in the group name, in lowercase\n",
    "group = fin.readline().lower()\n",
    "\n",
    "# Translation function\n",
    "def translate(name):\n",
    "    num = 1\n",
    "    for letter in name:\n",
    "        num *= ord(letter) - 96 # ord(\"a\") = 97, so we translate by 96 to start at 1\n",
    "    return num % 47 \n",
    "\n",
    "if translate(comet) == translate(group):\n",
    "    fout.write(\"GO\\n\")\n",
    "else:\n",
    "    fout.write(\"STAY\\n\")"
   ]
  }
 ],
 "metadata": {
  "kernelspec": {
   "display_name": "Python 3.9.13 ('directed_graphs_env')",
   "language": "python",
   "name": "python3"
  },
  "language_info": {
   "codemirror_mode": {
    "name": "ipython",
    "version": 3
   },
   "file_extension": ".py",
   "mimetype": "text/x-python",
   "name": "python",
   "nbconvert_exporter": "python",
   "pygments_lexer": "ipython3",
   "version": "3.9.13"
  },
  "vscode": {
   "interpreter": {
    "hash": "6795159ee165e048208425cbc96e3389349f8048950ee195b0f3273044952c16"
   }
  }
 },
 "nbformat": 4,
 "nbformat_minor": 4
}
