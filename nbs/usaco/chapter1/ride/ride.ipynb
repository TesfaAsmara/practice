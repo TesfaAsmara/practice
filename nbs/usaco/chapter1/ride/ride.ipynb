{
 "cells": [
  {
   "cell_type": "code",
   "execution_count": null,
   "metadata": {},
   "outputs": [],
   "source": [
    "#| default_exp ride"
   ]
  },
  {
   "cell_type": "markdown",
   "metadata": {},
   "source": [
    "# ride\n",
    "\n",
    "> Fill in a module description here"
   ]
  },
  {
   "cell_type": "markdown",
   "metadata": {},
   "source": [
    "PROG:  `ride`\n",
    "\n",
    "A scratch notebook of things I explored in approaching the problem."
   ]
  },
  {
   "cell_type": "code",
   "execution_count": null,
   "metadata": {},
   "outputs": [],
   "source": [
    "#| export\n",
    "\n",
    "'''\n",
    "ID: tgac2021\n",
    "LANG: PYTHON3\n",
    "TASK: ride\n",
    "'''\n",
    "\n",
    "# Input and output\n",
    "fin = open(\"/Users/tesfaasmara/Documents/GitHub/practice/nbs/usaco/chapter1/ride/ride.in\", \"r\")\n",
    "fout = open(\"/Users/tesfaasmara/Documents/GitHub/practice/nbs/usaco/chapter1/ride/ride.out\", \"w\")\n",
    "\n",
    "# Read in the comet name, in lowercase\n",
    "comet = fin.readline().lower()\n",
    "\n",
    "# Read in the group name, in lowercase\n",
    "group = fin.readline().lower()\n",
    "\n",
    "# Translation function\n",
    "def translate(name):\n",
    "    num = 1\n",
    "    for letter in name:\n",
    "        num *= ord(letter) - 96 # ord(\"a\") = 97, so we translate by 96 to start at 1\n",
    "    return num % 47 \n",
    "\n",
    "if translate(comet) == translate(group):\n",
    "    fout.write(\"GO\\n\")\n",
    "else:\n",
    "    fout.write(\"STAY\\n\")\n",
    "\n",
    "def main():\n",
    "    print(\"Hello World!\")"
   ]
  }
 ],
 "metadata": {
  "kernelspec": {
   "display_name": "Python 3.9.13 ('directed_graphs_env')",
   "language": "python",
   "name": "python3"
  }
 },
 "nbformat": 4,
 "nbformat_minor": 4
}
