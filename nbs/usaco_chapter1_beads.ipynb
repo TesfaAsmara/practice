{
 "cells": [
  {
   "cell_type": "code",
   "execution_count": null,
   "metadata": {},
   "outputs": [],
   "source": [
    "#| default_exp beads\n",
    "%load_ext autoreload\n",
    "%autoreload 2"
   ]
  },
  {
   "cell_type": "markdown",
   "metadata": {},
   "source": [
    "# beads\n",
    "\n",
    "> PROG: `beads`"
   ]
  },
  {
   "cell_type": "code",
   "execution_count": null,
   "metadata": {},
   "outputs": [],
   "source": [
    "'''\n",
    "ID: tgac2021\n",
    "LANG: PYTHON3\n",
    "TASK: beads\n",
    "'''\n",
    "\n",
    "fin = open(\"beads.in\", \"r\")\n",
    "\n",
    "N = int(fin.readline().strip())\n",
    "beads = fin.readline().strip()\n",
    "\n",
    "pre = ppre = ''\n",
    "num = w_num = 0\n",
    "max_num = 0\n",
    "i = 0"
   ]
  }
 ],
 "metadata": {
  "kernelspec": {
   "display_name": "Python 3.9.13 ('directed_graphs_env')",
   "language": "python",
   "name": "python3"
  }
 },
 "nbformat": 4,
 "nbformat_minor": 2
}
